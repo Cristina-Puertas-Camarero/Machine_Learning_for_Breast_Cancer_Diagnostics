{
 "cells": [
  {
   "cell_type": "markdown",
   "metadata": {},
   "source": [
    "# 4- Identificación y eliminación de características altamente correlacionadas"
   ]
  },
  {
   "cell_type": "markdown",
   "metadata": {},
   "source": [
    "Objetivo del Paso 4\n",
    "Usaremos el mapa de calor generado previamente para identificar pares de características con alta correlación (por ejemplo, coeficientes > 0.9).\n",
    "\n",
    "Eliminaremos las características redundantes para evitar problemas de multicolinealidad, mejorar la eficiencia computacional y garantizar que cada característica aporte información única al modelo."
   ]
  },
  {
   "cell_type": "code",
   "execution_count": 2,
   "metadata": {},
   "outputs": [
    {
     "name": "stdout",
     "output_type": "stream",
     "text": [
      "Dataset cargado exitosamente.\n",
      "Dimensiones del dataset antes de eliminar características correlacionadas: (569, 31)\n",
      "Características altamente correlacionadas identificadas: ['Mean_Perimeter', 'Mean_Area', 'Mean_Concave_Points', 'SE_Perimeter', 'SE_Area', 'Worst_Radius', 'Worst_Texture', 'Worst_Perimeter', 'Worst_Area', 'Worst_Concave_Points']\n",
      "Dimensiones del dataset después de eliminar características correlacionadas: (569, 21)\n",
      "El dataset sin características correlacionadas se ha guardado como '4_dataset_sin_correlaciones_altas.csv'.\n"
     ]
    }
   ],
   "source": [
    "# Importar librerías necesarias\n",
    "import pandas as pd\n",
    "import numpy as np\n",
    "\n",
    "# Cargar el dataset limpio desde el archivo guardado\n",
    "df = pd.read_csv(\"visualizacion_limpieza_eda.csv\")\n",
    "print(\"Dataset cargado exitosamente.\")\n",
    "print(\"Dimensiones del dataset antes de eliminar características correlacionadas:\", df.shape)\n",
    "\n",
    "# Paso 1: Calcular la matriz de correlación\n",
    "correlation_matrix = df.corr().abs()  # Usamos valores absolutos para evaluar magnitud\n",
    "\n",
    "# Paso 2: Crear la matriz triangular superior para identificar correlaciones redundantes\n",
    "upper = correlation_matrix.where(np.triu(np.ones(correlation_matrix.shape), k=1).astype(bool))\n",
    "\n",
    "# Paso 3: Identificar las características con alta correlación (> 0.9)\n",
    "highly_correlated = [column for column in upper.columns if any(upper[column] > 0.9)]\n",
    "print(\"Características altamente correlacionadas identificadas:\", highly_correlated)\n",
    "\n",
    "# Paso 4: Eliminar características redundantes del dataset\n",
    "df_cleaned = df.drop(columns=highly_correlated)\n",
    "print(\"Dimensiones del dataset después de eliminar características correlacionadas:\", df_cleaned.shape)\n",
    "\n",
    "# Guardar el nuevo dataset limpio para los siguientes pasos\n",
    "df_cleaned.to_csv(\"4_dataset_sin_correlaciones_altas.csv\", index=False)\n",
    "print(\"El dataset sin características correlacionadas se ha guardado como '4_dataset_sin_correlaciones_altas.csv'.\")\n"
   ]
  },
  {
   "cell_type": "markdown",
   "metadata": {},
   "source": [
    "## Características Eliminadas:\n",
    "\n",
    "Hemos eliminado 10 columnas con alta correlación, como Mean_Perimeter, Mean_Area, SE_Perimeter, Worst_Radius, y otras. Estas eran redundantes porque aportaban información muy similar a otras características en el dataset (por ejemplo, el perímetro y el área están fuertemente correlacionados con el radio).\n",
    "\n",
    "### Impacto en el Dataset:\n",
    "\n",
    "Las dimensiones del dataset pasaron de 31 columnas a 21 columnas.\n",
    "\n",
    "Esto reduce la complejidad del modelo, minimiza el riesgo de sobreajuste y mejora la eficiencia computacional.\n",
    "\n",
    "### Preservación de Información:\n",
    "\n",
    "Aunque se eliminaron columnas, los datos principales y las características más relevantes para el diagnóstico (según el EDA previo) permanecen intactos."
   ]
  }
 ],
 "metadata": {
  "kernelspec": {
   "display_name": "Python 3",
   "language": "python",
   "name": "python3"
  },
  "language_info": {
   "codemirror_mode": {
    "name": "ipython",
    "version": 3
   },
   "file_extension": ".py",
   "mimetype": "text/x-python",
   "name": "python",
   "nbconvert_exporter": "python",
   "pygments_lexer": "ipython3",
   "version": "3.11.9"
  }
 },
 "nbformat": 4,
 "nbformat_minor": 2
}
